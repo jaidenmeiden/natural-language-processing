{
 "cells": [
  {
   "cell_type": "markdown",
   "metadata": {
    "colab_type": "text",
    "id": "TkRC37fK5Dgy"
   },
   "source": [
    "# Configuración Inicial"
   ]
  },
  {
   "cell_type": "code",
   "execution_count": 2,
   "metadata": {
    "colab": {},
    "colab_type": "code",
    "id": "VSj2Kb-g4laK"
   },
   "outputs": [
    {
     "name": "stderr",
     "output_type": "stream",
     "text": [
      "[nltk_data] Downloading collection 'book'\n",
      "[nltk_data]    | \n",
      "[nltk_data]    | Downloading package abc to /home/oem/nltk_data...\n",
      "[nltk_data]    |   Package abc is already up-to-date!\n",
      "[nltk_data]    | Downloading package brown to /home/oem/nltk_data...\n",
      "[nltk_data]    |   Package brown is already up-to-date!\n",
      "[nltk_data]    | Downloading package chat80 to /home/oem/nltk_data...\n",
      "[nltk_data]    |   Package chat80 is already up-to-date!\n",
      "[nltk_data]    | Downloading package cmudict to /home/oem/nltk_data...\n",
      "[nltk_data]    |   Package cmudict is already up-to-date!\n",
      "[nltk_data]    | Downloading package conll2000 to\n",
      "[nltk_data]    |     /home/oem/nltk_data...\n",
      "[nltk_data]    |   Package conll2000 is already up-to-date!\n",
      "[nltk_data]    | Downloading package conll2002 to\n",
      "[nltk_data]    |     /home/oem/nltk_data...\n",
      "[nltk_data]    |   Package conll2002 is already up-to-date!\n",
      "[nltk_data]    | Downloading package dependency_treebank to\n",
      "[nltk_data]    |     /home/oem/nltk_data...\n",
      "[nltk_data]    |   Package dependency_treebank is already up-to-date!\n",
      "[nltk_data]    | Downloading package genesis to /home/oem/nltk_data...\n",
      "[nltk_data]    |   Package genesis is already up-to-date!\n",
      "[nltk_data]    | Downloading package gutenberg to\n",
      "[nltk_data]    |     /home/oem/nltk_data...\n",
      "[nltk_data]    |   Package gutenberg is already up-to-date!\n",
      "[nltk_data]    | Downloading package ieer to /home/oem/nltk_data...\n",
      "[nltk_data]    |   Package ieer is already up-to-date!\n",
      "[nltk_data]    | Downloading package inaugural to\n",
      "[nltk_data]    |     /home/oem/nltk_data...\n",
      "[nltk_data]    |   Package inaugural is already up-to-date!\n",
      "[nltk_data]    | Downloading package movie_reviews to\n",
      "[nltk_data]    |     /home/oem/nltk_data...\n",
      "[nltk_data]    |   Package movie_reviews is already up-to-date!\n",
      "[nltk_data]    | Downloading package nps_chat to\n",
      "[nltk_data]    |     /home/oem/nltk_data...\n",
      "[nltk_data]    |   Package nps_chat is already up-to-date!\n",
      "[nltk_data]    | Downloading package names to /home/oem/nltk_data...\n",
      "[nltk_data]    |   Package names is already up-to-date!\n",
      "[nltk_data]    | Downloading package ppattach to\n",
      "[nltk_data]    |     /home/oem/nltk_data...\n",
      "[nltk_data]    |   Package ppattach is already up-to-date!\n",
      "[nltk_data]    | Downloading package reuters to /home/oem/nltk_data...\n",
      "[nltk_data]    |   Package reuters is already up-to-date!\n",
      "[nltk_data]    | Downloading package senseval to\n",
      "[nltk_data]    |     /home/oem/nltk_data...\n",
      "[nltk_data]    |   Package senseval is already up-to-date!\n",
      "[nltk_data]    | Downloading package state_union to\n",
      "[nltk_data]    |     /home/oem/nltk_data...\n",
      "[nltk_data]    |   Package state_union is already up-to-date!\n",
      "[nltk_data]    | Downloading package stopwords to\n",
      "[nltk_data]    |     /home/oem/nltk_data...\n",
      "[nltk_data]    |   Package stopwords is already up-to-date!\n",
      "[nltk_data]    | Downloading package swadesh to /home/oem/nltk_data...\n",
      "[nltk_data]    |   Package swadesh is already up-to-date!\n",
      "[nltk_data]    | Downloading package timit to /home/oem/nltk_data...\n",
      "[nltk_data]    |   Package timit is already up-to-date!\n",
      "[nltk_data]    | Downloading package treebank to\n",
      "[nltk_data]    |     /home/oem/nltk_data...\n",
      "[nltk_data]    |   Package treebank is already up-to-date!\n",
      "[nltk_data]    | Downloading package toolbox to /home/oem/nltk_data...\n",
      "[nltk_data]    |   Package toolbox is already up-to-date!\n",
      "[nltk_data]    | Downloading package udhr to /home/oem/nltk_data...\n",
      "[nltk_data]    |   Package udhr is already up-to-date!\n",
      "[nltk_data]    | Downloading package udhr2 to /home/oem/nltk_data...\n",
      "[nltk_data]    |   Package udhr2 is already up-to-date!\n",
      "[nltk_data]    | Downloading package unicode_samples to\n",
      "[nltk_data]    |     /home/oem/nltk_data...\n",
      "[nltk_data]    |   Package unicode_samples is already up-to-date!\n",
      "[nltk_data]    | Downloading package webtext to /home/oem/nltk_data...\n",
      "[nltk_data]    |   Package webtext is already up-to-date!\n",
      "[nltk_data]    | Downloading package wordnet to /home/oem/nltk_data...\n",
      "[nltk_data]    |   Package wordnet is already up-to-date!\n",
      "[nltk_data]    | Downloading package wordnet_ic to\n",
      "[nltk_data]    |     /home/oem/nltk_data...\n",
      "[nltk_data]    |   Package wordnet_ic is already up-to-date!\n",
      "[nltk_data]    | Downloading package words to /home/oem/nltk_data...\n",
      "[nltk_data]    |   Package words is already up-to-date!\n",
      "[nltk_data]    | Downloading package maxent_treebank_pos_tagger to\n",
      "[nltk_data]    |     /home/oem/nltk_data...\n",
      "[nltk_data]    |   Package maxent_treebank_pos_tagger is already up-\n",
      "[nltk_data]    |       to-date!\n",
      "[nltk_data]    | Downloading package maxent_ne_chunker to\n",
      "[nltk_data]    |     /home/oem/nltk_data...\n",
      "[nltk_data]    |   Package maxent_ne_chunker is already up-to-date!\n",
      "[nltk_data]    | Downloading package universal_tagset to\n",
      "[nltk_data]    |     /home/oem/nltk_data...\n",
      "[nltk_data]    |   Package universal_tagset is already up-to-date!\n",
      "[nltk_data]    | Downloading package punkt to /home/oem/nltk_data...\n",
      "[nltk_data]    |   Package punkt is already up-to-date!\n",
      "[nltk_data]    | Downloading package book_grammars to\n",
      "[nltk_data]    |     /home/oem/nltk_data...\n",
      "[nltk_data]    |   Package book_grammars is already up-to-date!\n",
      "[nltk_data]    | Downloading package city_database to\n",
      "[nltk_data]    |     /home/oem/nltk_data...\n",
      "[nltk_data]    |   Package city_database is already up-to-date!\n",
      "[nltk_data]    | Downloading package tagsets to /home/oem/nltk_data...\n",
      "[nltk_data]    |   Package tagsets is already up-to-date!\n",
      "[nltk_data]    | Downloading package panlex_swadesh to\n",
      "[nltk_data]    |     /home/oem/nltk_data...\n",
      "[nltk_data]    |   Package panlex_swadesh is already up-to-date!\n",
      "[nltk_data]    | Downloading package averaged_perceptron_tagger to\n",
      "[nltk_data]    |     /home/oem/nltk_data...\n",
      "[nltk_data]    |   Package averaged_perceptron_tagger is already up-\n",
      "[nltk_data]    |       to-date!\n",
      "[nltk_data]    | \n",
      "[nltk_data]  Done downloading collection book\n"
     ]
    }
   ],
   "source": [
    "import nltk \n",
    "nltk.download('book')\n",
    "from nltk.book import *\n",
    "import matplotlib.pyplot as plt\n",
    "import numpy as np\n",
    "import pandas as pd\n",
    "import plotly.express as px"
   ]
  },
  {
   "cell_type": "markdown",
   "metadata": {
    "colab_type": "text",
    "id": "x-bYnXwHk9Nh"
   },
   "source": [
    "# Bi-gramas\n",
    "* Parejas de palabras que ocurren consecutivas."
   ]
  },
  {
   "cell_type": "code",
   "execution_count": null,
   "metadata": {
    "colab": {
     "base_uri": "https://localhost:8080/",
     "height": 201
    },
    "colab_type": "code",
    "executionInfo": {
     "elapsed": 8359,
     "status": "ok",
     "timestamp": 1582037802423,
     "user": {
      "displayName": "Francisco Camacho",
      "photoUrl": "https://lh3.googleusercontent.com/a-/AAuE7mCUaNNj72-A-ZLpzeOCw1kooH47L4wGZaSy6fUG=s64",
      "userId": "03320326049189164988"
     },
     "user_tz": 300
    },
    "id": "WerSeepu9J6a",
    "outputId": "f8a3e8df-6cbf-45f1-e3c6-483a71f3615f"
   },
   "outputs": [],
   "source": []
  },
  {
   "cell_type": "markdown",
   "metadata": {
    "colab_type": "text",
    "id": "x-bYnXwHk9Nh"
   },
   "source": [
    "Aqui podemos obtener los bi-gramas más frecuentes en este texto:"
   ]
  },
  {
   "cell_type": "code",
   "execution_count": null,
   "metadata": {
    "colab": {
     "base_uri": "https://localhost:8080/",
     "height": 201
    },
    "colab_type": "code",
    "executionInfo": {
     "elapsed": 8351,
     "status": "ok",
     "timestamp": 1582037802424,
     "user": {
      "displayName": "Francisco Camacho",
      "photoUrl": "https://lh3.googleusercontent.com/a-/AAuE7mCUaNNj72-A-ZLpzeOCw1kooH47L4wGZaSy6fUG=s64",
      "userId": "03320326049189164988"
     },
     "user_tz": 300
    },
    "id": "hehIQHExkR9W",
    "outputId": "083c608b-9c65-4825-abd7-bc69a6052c81"
   },
   "outputs": [],
   "source": []
  },
  {
   "cell_type": "code",
   "execution_count": null,
   "metadata": {
    "colab": {
     "base_uri": "https://localhost:8080/",
     "height": 360
    },
    "colab_type": "code",
    "executionInfo": {
     "elapsed": 8518,
     "status": "ok",
     "timestamp": 1582037802599,
     "user": {
      "displayName": "Francisco Camacho",
      "photoUrl": "https://lh3.googleusercontent.com/a-/AAuE7mCUaNNj72-A-ZLpzeOCw1kooH47L4wGZaSy6fUG=s64",
      "userId": "03320326049189164988"
     },
     "user_tz": 300
    },
    "id": "zFyQxISllDgX",
    "outputId": "760fe030-6387-4229-d132-7f2892273742"
   },
   "outputs": [],
   "source": []
  },
  {
   "cell_type": "markdown",
   "metadata": {
    "colab_type": "text",
    "id": "hdVJ-IG5lVkJ"
   },
   "source": [
    "## Filtrado de bi-gramas\n",
    "* Sin embargo, observamos que los bi-gramas más comunes no representan realmente frases o estructuras léxicas de interes.\n",
    "* Tal vez, aplicar algun tipo de filtro nos permita ver estructuras más relevantes."
   ]
  },
  {
   "cell_type": "code",
   "execution_count": null,
   "metadata": {
    "colab": {
     "base_uri": "https://localhost:8080/",
     "height": 377
    },
    "colab_type": "code",
    "executionInfo": {
     "elapsed": 8781,
     "status": "ok",
     "timestamp": 1582037802873,
     "user": {
      "displayName": "Francisco Camacho",
      "photoUrl": "https://lh3.googleusercontent.com/a-/AAuE7mCUaNNj72-A-ZLpzeOCw1kooH47L4wGZaSy6fUG=s64",
      "userId": "03320326049189164988"
     },
     "user_tz": 300
    },
    "id": "GIFOQKSHnMib",
    "outputId": "09acca6d-7e98-4045-f978-c34d64c7f89e"
   },
   "outputs": [],
   "source": []
  },
  {
   "cell_type": "markdown",
   "metadata": {
    "colab_type": "text",
    "id": "JAbaY3DapHzk"
   },
   "source": [
    "# Tri-gramas"
   ]
  },
  {
   "cell_type": "code",
   "execution_count": null,
   "metadata": {
    "colab": {
     "base_uri": "https://localhost:8080/",
     "height": 201
    },
    "colab_type": "code",
    "executionInfo": {
     "elapsed": 9553,
     "status": "ok",
     "timestamp": 1582037803655,
     "user": {
      "displayName": "Francisco Camacho",
      "photoUrl": "https://lh3.googleusercontent.com/a-/AAuE7mCUaNNj72-A-ZLpzeOCw1kooH47L4wGZaSy6fUG=s64",
      "userId": "03320326049189164988"
     },
     "user_tz": 300
    },
    "id": "eE9ojvxvpOZ9",
    "outputId": "8da58229-ecb9-4a2c-ac7a-962755f1ed17"
   },
   "outputs": [],
   "source": []
  },
  {
   "cell_type": "code",
   "execution_count": null,
   "metadata": {
    "colab": {
     "base_uri": "https://localhost:8080/",
     "height": 201
    },
    "colab_type": "code",
    "executionInfo": {
     "elapsed": 9547,
     "status": "ok",
     "timestamp": 1582037803656,
     "user": {
      "displayName": "Francisco Camacho",
      "photoUrl": "https://lh3.googleusercontent.com/a-/AAuE7mCUaNNj72-A-ZLpzeOCw1kooH47L4wGZaSy6fUG=s64",
      "userId": "03320326049189164988"
     },
     "user_tz": 300
    },
    "id": "FsjKpyrUqEpi",
    "outputId": "14d16b0e-5b59-4fa0-f101-7b2c68747059"
   },
   "outputs": [],
   "source": []
  },
  {
   "cell_type": "code",
   "execution_count": null,
   "metadata": {
    "colab": {
     "base_uri": "https://localhost:8080/",
     "height": 405
    },
    "colab_type": "code",
    "executionInfo": {
     "elapsed": 9540,
     "status": "ok",
     "timestamp": 1582037803657,
     "user": {
      "displayName": "Francisco Camacho",
      "photoUrl": "https://lh3.googleusercontent.com/a-/AAuE7mCUaNNj72-A-ZLpzeOCw1kooH47L4wGZaSy6fUG=s64",
      "userId": "03320326049189164988"
     },
     "user_tz": 300
    },
    "id": "iGOyRLVqqIVS",
    "outputId": "4da9fc8e-fdec-4b68-98a6-f5e32d1ef16a"
   },
   "outputs": [],
   "source": []
  },
  {
   "cell_type": "markdown",
   "metadata": {
    "colab_type": "text",
    "id": "0F99OFag5QHW"
   },
   "source": [
    "# Collocations (Colocaciones)\n",
    "\n",
    "* Son secuencias de palabras que suelen ocurrir en textos o conversaciones con una **frecuencia inusualmente alta** [NLTK doc](http://www.nltk.org/book/ch01.html)\n",
    "* Las colocaciones de una palabra son declaraciones formales de donde suele ubicarse tipicamente esa palabra [Manning & Schütze, 1990, Foundations of Statistical Natural Language Processing, Capítulo 6](https://nlp.stanford.edu/fsnlp/)"
   ]
  },
  {
   "cell_type": "code",
   "execution_count": null,
   "metadata": {
    "colab": {
     "base_uri": "https://localhost:8080/",
     "height": 411
    },
    "colab_type": "code",
    "executionInfo": {
     "elapsed": 10616,
     "status": "ok",
     "timestamp": 1582037804743,
     "user": {
      "displayName": "Francisco Camacho",
      "photoUrl": "https://lh3.googleusercontent.com/a-/AAuE7mCUaNNj72-A-ZLpzeOCw1kooH47L4wGZaSy6fUG=s64",
      "userId": "03320326049189164988"
     },
     "user_tz": 300
    },
    "id": "34x4NpnVndyo",
    "outputId": "10b03ce3-fc88-4be7-dc8e-5f2b5caddfb8"
   },
   "outputs": [],
   "source": []
  },
  {
   "cell_type": "markdown",
   "metadata": {
    "colab_type": "text",
    "id": "7E_gNms8s1Zo"
   },
   "source": [
    "# Pointwise Mutual Information (PMI)\n",
    "Una métrica basada en _teoria de la información_ para encontrar **Collocations**.\n",
    "\n",
    "$$\n",
    "PMI = \\log\\left(\\frac{P(w_1, w_2)}{P(w_1)P(w_2)}\\right)\n",
    "$$"
   ]
  },
  {
   "cell_type": "code",
   "execution_count": null,
   "metadata": {
    "colab": {
     "base_uri": "https://localhost:8080/",
     "height": 411
    },
    "colab_type": "code",
    "executionInfo": {
     "elapsed": 11491,
     "status": "ok",
     "timestamp": 1582037805626,
     "user": {
      "displayName": "Francisco Camacho",
      "photoUrl": "https://lh3.googleusercontent.com/a-/AAuE7mCUaNNj72-A-ZLpzeOCw1kooH47L4wGZaSy6fUG=s64",
      "userId": "03320326049189164988"
     },
     "user_tz": 300
    },
    "id": "NlPVa4l5qASe",
    "outputId": "018d80ee-8c31-4ff8-f1e1-6dbcb51be49e"
   },
   "outputs": [],
   "source": []
  },
  {
   "cell_type": "code",
   "execution_count": null,
   "metadata": {
    "colab": {
     "base_uri": "https://localhost:8080/",
     "height": 411
    },
    "colab_type": "code",
    "executionInfo": {
     "elapsed": 11474,
     "status": "ok",
     "timestamp": 1582037805627,
     "user": {
      "displayName": "Francisco Camacho",
      "photoUrl": "https://lh3.googleusercontent.com/a-/AAuE7mCUaNNj72-A-ZLpzeOCw1kooH47L4wGZaSy6fUG=s64",
      "userId": "03320326049189164988"
     },
     "user_tz": 300
    },
    "id": "1DACToLnt0Bb",
    "outputId": "4a763cbc-9a72-4a33-937b-e2d909e6d828"
   },
   "outputs": [],
   "source": []
  },
  {
   "cell_type": "code",
   "execution_count": null,
   "metadata": {
    "colab": {
     "base_uri": "https://localhost:8080/",
     "height": 616,
     "output_embedded_package_id": "1yCef2QV8M68idzvVO1TuL4Iah_2obsC_"
    },
    "colab_type": "code",
    "executionInfo": {
     "elapsed": 20185,
     "status": "ok",
     "timestamp": 1582037814350,
     "user": {
      "displayName": "Francisco Camacho",
      "photoUrl": "https://lh3.googleusercontent.com/a-/AAuE7mCUaNNj72-A-ZLpzeOCw1kooH47L4wGZaSy6fUG=s64",
      "userId": "03320326049189164988"
     },
     "user_tz": 300
    },
    "id": "15BzVJM3zFdy",
    "outputId": "3b65ec00-2094-40dc-c289-a63c0f5d2cc0"
   },
   "outputs": [],
   "source": []
  },
  {
   "cell_type": "markdown",
   "metadata": {
    "colab_type": "text",
    "id": "G0a53wvZo673"
   },
   "source": [
    "# Medidas pre-construidas en NLTK"
   ]
  },
  {
   "cell_type": "code",
   "execution_count": null,
   "metadata": {
    "colab": {},
    "colab_type": "code",
    "id": "PgzViJENnrx7"
   },
   "outputs": [],
   "source": []
  },
  {
   "cell_type": "code",
   "execution_count": null,
   "metadata": {
    "colab": {
     "base_uri": "https://localhost:8080/",
     "height": 181
    },
    "colab_type": "code",
    "executionInfo": {
     "elapsed": 20153,
     "status": "ok",
     "timestamp": 1582037814353,
     "user": {
      "displayName": "Francisco Camacho",
      "photoUrl": "https://lh3.googleusercontent.com/a-/AAuE7mCUaNNj72-A-ZLpzeOCw1kooH47L4wGZaSy6fUG=s64",
      "userId": "03320326049189164988"
     },
     "user_tz": 300
    },
    "id": "rUUtIcXZrD2V",
    "outputId": "7a5043b0-c30e-4124-9d43-3cdf5f4ffb20"
   },
   "outputs": [],
   "source": []
  },
  {
   "cell_type": "markdown",
   "metadata": {
    "colab_type": "text",
    "id": "CWyDEBtZmCya"
   },
   "source": [
    "# Textos en Español "
   ]
  },
  {
   "cell_type": "code",
   "execution_count": null,
   "metadata": {
    "colab": {
     "base_uri": "https://localhost:8080/",
     "height": 49
    },
    "colab_type": "code",
    "executionInfo": {
     "elapsed": 22123,
     "status": "ok",
     "timestamp": 1582037816333,
     "user": {
      "displayName": "Francisco Camacho",
      "photoUrl": "https://lh3.googleusercontent.com/a-/AAuE7mCUaNNj72-A-ZLpzeOCw1kooH47L4wGZaSy6fUG=s64",
      "userId": "03320326049189164988"
     },
     "user_tz": 300
    },
    "id": "Eo6Gm1ngmQKB",
    "outputId": "87881b1e-087d-4eab-d76c-1dc1df3ff997"
   },
   "outputs": [],
   "source": []
  },
  {
   "cell_type": "code",
   "execution_count": null,
   "metadata": {
    "colab": {
     "base_uri": "https://localhost:8080/",
     "height": 52
    },
    "colab_type": "code",
    "executionInfo": {
     "elapsed": 22112,
     "status": "ok",
     "timestamp": 1582037816335,
     "user": {
      "displayName": "Francisco Camacho",
      "photoUrl": "https://lh3.googleusercontent.com/a-/AAuE7mCUaNNj72-A-ZLpzeOCw1kooH47L4wGZaSy6fUG=s64",
      "userId": "03320326049189164988"
     },
     "user_tz": 300
    },
    "id": "HJYf0w0-m_t3",
    "outputId": "8c60e38e-a519-4134-c7c3-a1b5c85dfa03"
   },
   "outputs": [],
   "source": []
  },
  {
   "cell_type": "code",
   "execution_count": null,
   "metadata": {
    "colab": {
     "base_uri": "https://localhost:8080/",
     "height": 52
    },
    "colab_type": "code",
    "executionInfo": {
     "elapsed": 22100,
     "status": "ok",
     "timestamp": 1582037816335,
     "user": {
      "displayName": "Francisco Camacho",
      "photoUrl": "https://lh3.googleusercontent.com/a-/AAuE7mCUaNNj72-A-ZLpzeOCw1kooH47L4wGZaSy6fUG=s64",
      "userId": "03320326049189164988"
     },
     "user_tz": 300
    },
    "id": "rRHahBiOoEvi",
    "outputId": "84948a85-3e7c-4e18-c3f5-f8302b9546ba"
   },
   "outputs": [],
   "source": []
  },
  {
   "cell_type": "code",
   "execution_count": null,
   "metadata": {
    "colab": {
     "base_uri": "https://localhost:8080/",
     "height": 181
    },
    "colab_type": "code",
    "executionInfo": {
     "elapsed": 28977,
     "status": "ok",
     "timestamp": 1582037823223,
     "user": {
      "displayName": "Francisco Camacho",
      "photoUrl": "https://lh3.googleusercontent.com/a-/AAuE7mCUaNNj72-A-ZLpzeOCw1kooH47L4wGZaSy6fUG=s64",
      "userId": "03320326049189164988"
     },
     "user_tz": 300
    },
    "id": "HJWgwrzdoVD7",
    "outputId": "a8938c94-6d8d-4202-aacf-354cf6ed3398"
   },
   "outputs": [],
   "source": []
  },
  {
   "cell_type": "code",
   "execution_count": null,
   "metadata": {
    "colab": {},
    "colab_type": "code",
    "id": "83Lb4GSk1Qh_"
   },
   "outputs": [],
   "source": []
  },
  {
   "cell_type": "markdown",
   "metadata": {
    "colab_type": "text",
    "id": "G30AGeOX2cCf"
   },
   "source": [
    "# Referencias para seguir aprendiendo\n",
    "\n",
    "\n",
    "*   [Mas sobre Colocaciones con NLTK](http://www.nltk.org/howto/collocations.html)\n",
    "*   \n",
    "\n"
   ]
  }
 ],
 "metadata": {
  "colab": {
   "collapsed_sections": [],
   "name": "[C5]_Language_with_Statistics.ipynb",
   "provenance": [],
   "toc_visible": true
  },
  "kernelspec": {
   "display_name": "Python 3",
   "language": "python",
   "name": "python3"
  },
  "language_info": {
   "codemirror_mode": {
    "name": "ipython",
    "version": 3
   },
   "file_extension": ".py",
   "mimetype": "text/x-python",
   "name": "python",
   "nbconvert_exporter": "python",
   "pygments_lexer": "ipython3",
   "version": "3.7.6"
  }
 },
 "nbformat": 4,
 "nbformat_minor": 1
}
